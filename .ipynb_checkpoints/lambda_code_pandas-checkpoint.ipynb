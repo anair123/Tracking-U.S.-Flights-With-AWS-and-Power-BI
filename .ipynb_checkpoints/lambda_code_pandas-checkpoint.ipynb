{
 "cells": [
  {
   "cell_type": "code",
   "execution_count": 3,
   "id": "a76b1d34",
   "metadata": {},
   "outputs": [],
   "source": [
    "import pandas as pd\n",
    "import aws_keys\n",
    "import boto3"
   ]
  },
  {
   "cell_type": "code",
   "execution_count": 4,
   "id": "a930ad43",
   "metadata": {},
   "outputs": [],
   "source": [
    "# load access keys\n",
    "access_key, secret_key = aws_keys.aws_keys()"
   ]
  },
  {
   "cell_type": "code",
   "execution_count": 5,
   "id": "b985961a",
   "metadata": {},
   "outputs": [],
   "source": [
    "# create client object\n",
    "s3 = boto3.client('s3',\n",
    "                aws_access_key_id = access_key,\n",
    "                aws_secret_access_key = secret_key,\n",
    "                region_name='us-east-2')"
   ]
  },
  {
   "cell_type": "code",
   "execution_count": 20,
   "id": "b52bb0f6",
   "metadata": {},
   "outputs": [
    {
     "data": {
      "text/plain": [
       "[{'Name': 'aws-glue-assets-276295123250-us-east-2',\n",
       "  'CreationDate': datetime.datetime(2023, 6, 11, 13, 18, 17, tzinfo=tzutc())},\n",
       " {'Name': 'flights-data-processed',\n",
       "  'CreationDate': datetime.datetime(2023, 6, 11, 0, 26, 54, tzinfo=tzutc())},\n",
       " {'Name': 'flights-data-raw',\n",
       "  'CreationDate': datetime.datetime(2023, 6, 7, 2, 11, 37, tzinfo=tzutc())}]"
      ]
     },
     "execution_count": 20,
     "metadata": {},
     "output_type": "execute_result"
    }
   ],
   "source": [
    "# list buckets\n",
    "response = s3.list_buckets()\n",
    "response['Buckets']"
   ]
  },
  {
   "cell_type": "code",
   "execution_count": 29,
   "id": "d2faea4f",
   "metadata": {},
   "outputs": [
    {
     "data": {
      "text/plain": [
       "(1541, 21)"
      ]
     },
     "execution_count": 29,
     "metadata": {},
     "output_type": "execute_result"
    }
   ],
   "source": [
    "import io \n",
    "\n",
    "# read raw data in a polars data frame\n",
    "obj = s3.get_object(Bucket='flights-data-raw', Key='Airline_Delay_Cause.csv')\n",
    "flights = pd.read_csv(io.BytesIO(obj['Body'].read()))\n",
    "flights.shape"
   ]
  },
  {
   "cell_type": "code",
   "execution_count": 30,
   "id": "5bc56a2a",
   "metadata": {},
   "outputs": [
    {
     "data": {
      "text/html": [
       "<div>\n",
       "<style scoped>\n",
       "    .dataframe tbody tr th:only-of-type {\n",
       "        vertical-align: middle;\n",
       "    }\n",
       "\n",
       "    .dataframe tbody tr th {\n",
       "        vertical-align: top;\n",
       "    }\n",
       "\n",
       "    .dataframe thead th {\n",
       "        text-align: right;\n",
       "    }\n",
       "</style>\n",
       "<table border=\"1\" class=\"dataframe\">\n",
       "  <thead>\n",
       "    <tr style=\"text-align: right;\">\n",
       "      <th></th>\n",
       "      <th>year</th>\n",
       "      <th>month</th>\n",
       "      <th>carrier</th>\n",
       "      <th>carrier_name</th>\n",
       "      <th>airport</th>\n",
       "      <th>airport_name</th>\n",
       "      <th>arr_flights</th>\n",
       "      <th>arr_del15</th>\n",
       "      <th>carrier_ct</th>\n",
       "      <th>weather_ct</th>\n",
       "      <th>...</th>\n",
       "      <th>security_ct</th>\n",
       "      <th>late_aircraft_ct</th>\n",
       "      <th>arr_cancelled</th>\n",
       "      <th>arr_diverted</th>\n",
       "      <th>arr_delay</th>\n",
       "      <th>carrier_delay</th>\n",
       "      <th>weather_delay</th>\n",
       "      <th>nas_delay</th>\n",
       "      <th>security_delay</th>\n",
       "      <th>late_aircraft_delay</th>\n",
       "    </tr>\n",
       "  </thead>\n",
       "  <tbody>\n",
       "    <tr>\n",
       "      <th>0</th>\n",
       "      <td>2023</td>\n",
       "      <td>3</td>\n",
       "      <td>9E</td>\n",
       "      <td>Endeavor Air Inc.</td>\n",
       "      <td>ABY</td>\n",
       "      <td>Albany, GA: Southwest Georgia Regional</td>\n",
       "      <td>89.0</td>\n",
       "      <td>8.0</td>\n",
       "      <td>4.46</td>\n",
       "      <td>1.00</td>\n",
       "      <td>...</td>\n",
       "      <td>0.0</td>\n",
       "      <td>0.93</td>\n",
       "      <td>1.0</td>\n",
       "      <td>1.0</td>\n",
       "      <td>412.0</td>\n",
       "      <td>262.0</td>\n",
       "      <td>38.0</td>\n",
       "      <td>53.0</td>\n",
       "      <td>0.0</td>\n",
       "      <td>59.0</td>\n",
       "    </tr>\n",
       "    <tr>\n",
       "      <th>1</th>\n",
       "      <td>2023</td>\n",
       "      <td>3</td>\n",
       "      <td>9E</td>\n",
       "      <td>Endeavor Air Inc.</td>\n",
       "      <td>AEX</td>\n",
       "      <td>Alexandria, LA: Alexandria International</td>\n",
       "      <td>62.0</td>\n",
       "      <td>8.0</td>\n",
       "      <td>3.95</td>\n",
       "      <td>0.37</td>\n",
       "      <td>...</td>\n",
       "      <td>0.0</td>\n",
       "      <td>2.40</td>\n",
       "      <td>0.0</td>\n",
       "      <td>0.0</td>\n",
       "      <td>357.0</td>\n",
       "      <td>188.0</td>\n",
       "      <td>7.0</td>\n",
       "      <td>44.0</td>\n",
       "      <td>0.0</td>\n",
       "      <td>118.0</td>\n",
       "    </tr>\n",
       "  </tbody>\n",
       "</table>\n",
       "<p>2 rows × 21 columns</p>\n",
       "</div>"
      ],
      "text/plain": [
       "   year  month carrier       carrier_name airport  \\\n",
       "0  2023      3      9E  Endeavor Air Inc.     ABY   \n",
       "1  2023      3      9E  Endeavor Air Inc.     AEX   \n",
       "\n",
       "                               airport_name  arr_flights  arr_del15  \\\n",
       "0    Albany, GA: Southwest Georgia Regional         89.0        8.0   \n",
       "1  Alexandria, LA: Alexandria International         62.0        8.0   \n",
       "\n",
       "   carrier_ct  weather_ct  ...  security_ct  late_aircraft_ct  arr_cancelled  \\\n",
       "0        4.46        1.00  ...          0.0              0.93            1.0   \n",
       "1        3.95        0.37  ...          0.0              2.40            0.0   \n",
       "\n",
       "   arr_diverted  arr_delay  carrier_delay  weather_delay  nas_delay  \\\n",
       "0           1.0      412.0          262.0           38.0       53.0   \n",
       "1           0.0      357.0          188.0            7.0       44.0   \n",
       "\n",
       "   security_delay  late_aircraft_delay  \n",
       "0             0.0                 59.0  \n",
       "1             0.0                118.0  \n",
       "\n",
       "[2 rows x 21 columns]"
      ]
     },
     "execution_count": 30,
     "metadata": {},
     "output_type": "execute_result"
    }
   ],
   "source": [
    "# preview of raw data\n",
    "flights.head(2)"
   ]
  },
  {
   "cell_type": "code",
   "execution_count": 31,
   "id": "1f00c793",
   "metadata": {},
   "outputs": [],
   "source": [
    "# drop unwanted columns \n",
    "flights = flights.drop(['carrier_ct','weather_ct','nas_ct','security_ct','late_aircraft_ct'], axis=1)"
   ]
  },
  {
   "cell_type": "code",
   "execution_count": 32,
   "id": "f2c07072",
   "metadata": {},
   "outputs": [],
   "source": [
    "\n",
    "flights['city_state']=flights['airport_name'].apply(lambda x: x.split(': ')[0])\n",
    "flights['airport_name']=flights['airport_name'].apply(lambda x: x.split(': ')[1])\n",
    "flights['city']=flights['city_state'].apply(lambda x: x.split(', ')[0])\n",
    "flights['state']=flights['city_state'].apply(lambda x: x.split(', ')[1])\n",
    "flights = flights.drop('city_state', axis=1)\n",
    "\n",
    "\n"
   ]
  },
  {
   "cell_type": "code",
   "execution_count": 33,
   "id": "a6f980c7",
   "metadata": {},
   "outputs": [
    {
     "data": {
      "text/html": [
       "<div>\n",
       "<style scoped>\n",
       "    .dataframe tbody tr th:only-of-type {\n",
       "        vertical-align: middle;\n",
       "    }\n",
       "\n",
       "    .dataframe tbody tr th {\n",
       "        vertical-align: top;\n",
       "    }\n",
       "\n",
       "    .dataframe thead th {\n",
       "        text-align: right;\n",
       "    }\n",
       "</style>\n",
       "<table border=\"1\" class=\"dataframe\">\n",
       "  <thead>\n",
       "    <tr style=\"text-align: right;\">\n",
       "      <th></th>\n",
       "      <th>year</th>\n",
       "      <th>month</th>\n",
       "      <th>carrier</th>\n",
       "      <th>carrier_name</th>\n",
       "      <th>airport</th>\n",
       "      <th>airport_name</th>\n",
       "      <th>arr_flights</th>\n",
       "      <th>arr_del15</th>\n",
       "      <th>arr_cancelled</th>\n",
       "      <th>arr_diverted</th>\n",
       "      <th>arr_delay</th>\n",
       "      <th>carrier_delay</th>\n",
       "      <th>weather_delay</th>\n",
       "      <th>nas_delay</th>\n",
       "      <th>security_delay</th>\n",
       "      <th>late_aircraft_delay</th>\n",
       "      <th>city</th>\n",
       "      <th>state</th>\n",
       "    </tr>\n",
       "  </thead>\n",
       "  <tbody>\n",
       "    <tr>\n",
       "      <th>0</th>\n",
       "      <td>2023</td>\n",
       "      <td>3</td>\n",
       "      <td>9E</td>\n",
       "      <td>Endeavor Air Inc.</td>\n",
       "      <td>ABY</td>\n",
       "      <td>Southwest Georgia Regional</td>\n",
       "      <td>89.0</td>\n",
       "      <td>8.0</td>\n",
       "      <td>1.0</td>\n",
       "      <td>1.0</td>\n",
       "      <td>412.0</td>\n",
       "      <td>262.0</td>\n",
       "      <td>38.0</td>\n",
       "      <td>53.0</td>\n",
       "      <td>0.0</td>\n",
       "      <td>59.0</td>\n",
       "      <td>Albany</td>\n",
       "      <td>GA</td>\n",
       "    </tr>\n",
       "    <tr>\n",
       "      <th>1</th>\n",
       "      <td>2023</td>\n",
       "      <td>3</td>\n",
       "      <td>9E</td>\n",
       "      <td>Endeavor Air Inc.</td>\n",
       "      <td>AEX</td>\n",
       "      <td>Alexandria International</td>\n",
       "      <td>62.0</td>\n",
       "      <td>8.0</td>\n",
       "      <td>0.0</td>\n",
       "      <td>0.0</td>\n",
       "      <td>357.0</td>\n",
       "      <td>188.0</td>\n",
       "      <td>7.0</td>\n",
       "      <td>44.0</td>\n",
       "      <td>0.0</td>\n",
       "      <td>118.0</td>\n",
       "      <td>Alexandria</td>\n",
       "      <td>LA</td>\n",
       "    </tr>\n",
       "  </tbody>\n",
       "</table>\n",
       "</div>"
      ],
      "text/plain": [
       "   year  month carrier       carrier_name airport                airport_name  \\\n",
       "0  2023      3      9E  Endeavor Air Inc.     ABY  Southwest Georgia Regional   \n",
       "1  2023      3      9E  Endeavor Air Inc.     AEX    Alexandria International   \n",
       "\n",
       "   arr_flights  arr_del15  arr_cancelled  arr_diverted  arr_delay  \\\n",
       "0         89.0        8.0            1.0           1.0      412.0   \n",
       "1         62.0        8.0            0.0           0.0      357.0   \n",
       "\n",
       "   carrier_delay  weather_delay  nas_delay  security_delay  \\\n",
       "0          262.0           38.0       53.0             0.0   \n",
       "1          188.0            7.0       44.0             0.0   \n",
       "\n",
       "   late_aircraft_delay        city state  \n",
       "0                 59.0      Albany    GA  \n",
       "1                118.0  Alexandria    LA  "
      ]
     },
     "execution_count": 33,
     "metadata": {},
     "output_type": "execute_result"
    }
   ],
   "source": [
    "# preview of data\n",
    "flights.head(2)"
   ]
  },
  {
   "cell_type": "markdown",
   "id": "20b5651c",
   "metadata": {},
   "source": [
    "### Create Carrier Table"
   ]
  },
  {
   "cell_type": "code",
   "execution_count": 34,
   "id": "0d26cbb8",
   "metadata": {},
   "outputs": [
    {
     "data": {
      "text/html": [
       "<div>\n",
       "<style scoped>\n",
       "    .dataframe tbody tr th:only-of-type {\n",
       "        vertical-align: middle;\n",
       "    }\n",
       "\n",
       "    .dataframe tbody tr th {\n",
       "        vertical-align: top;\n",
       "    }\n",
       "\n",
       "    .dataframe thead th {\n",
       "        text-align: right;\n",
       "    }\n",
       "</style>\n",
       "<table border=\"1\" class=\"dataframe\">\n",
       "  <thead>\n",
       "    <tr style=\"text-align: right;\">\n",
       "      <th></th>\n",
       "      <th>id</th>\n",
       "      <th>carrier</th>\n",
       "      <th>carrier_name</th>\n",
       "    </tr>\n",
       "  </thead>\n",
       "  <tbody>\n",
       "    <tr>\n",
       "      <th>0</th>\n",
       "      <td>1</td>\n",
       "      <td>9E</td>\n",
       "      <td>Endeavor Air Inc.</td>\n",
       "    </tr>\n",
       "    <tr>\n",
       "      <th>95</th>\n",
       "      <td>2</td>\n",
       "      <td>AA</td>\n",
       "      <td>American Airlines Inc.</td>\n",
       "    </tr>\n",
       "  </tbody>\n",
       "</table>\n",
       "</div>"
      ],
      "text/plain": [
       "    id carrier            carrier_name\n",
       "0    1      9E       Endeavor Air Inc.\n",
       "95   2      AA  American Airlines Inc."
      ]
     },
     "execution_count": 34,
     "metadata": {},
     "output_type": "execute_result"
    }
   ],
   "source": [
    "# create a carrier table\n",
    "\n",
    "carrier = flights[['carrier', 'carrier_name']].drop_duplicates(['carrier', 'carrier_name'], keep='first').sort_values('carrier')\n",
    "# create an id column \n",
    "id_ = [i for i in range(1, len(carrier)+1)]\n",
    "carrier['id'] = id_\n",
    "carrier = carrier[['id', 'carrier', 'carrier_name']]\n",
    "carrier.head(2)"
   ]
  },
  {
   "cell_type": "code",
   "execution_count": 35,
   "id": "f101163b",
   "metadata": {},
   "outputs": [
    {
     "data": {
      "text/plain": [
       "(1541, 17)"
      ]
     },
     "execution_count": 35,
     "metadata": {},
     "output_type": "execute_result"
    }
   ],
   "source": [
    "\n",
    "# replace the carrier and carrier_name columns with a foreign key\n",
    "flights = flights.merge(carrier, on=['carrier', 'carrier_name']).drop(['carrier', 'carrier_name'], axis=1)\n",
    "flights = flights.rename(columns={'id': 'carrier_id'})\n",
    "flights.head(2)\n",
    "flights.shape"
   ]
  },
  {
   "cell_type": "markdown",
   "id": "146911a7",
   "metadata": {},
   "source": [
    "### Create Airport Table"
   ]
  },
  {
   "cell_type": "code",
   "execution_count": 37,
   "id": "2f84009d",
   "metadata": {},
   "outputs": [
    {
     "data": {
      "text/html": [
       "<div>\n",
       "<style scoped>\n",
       "    .dataframe tbody tr th:only-of-type {\n",
       "        vertical-align: middle;\n",
       "    }\n",
       "\n",
       "    .dataframe tbody tr th {\n",
       "        vertical-align: top;\n",
       "    }\n",
       "\n",
       "    .dataframe thead th {\n",
       "        text-align: right;\n",
       "    }\n",
       "</style>\n",
       "<table border=\"1\" class=\"dataframe\">\n",
       "  <thead>\n",
       "    <tr style=\"text-align: right;\">\n",
       "      <th></th>\n",
       "      <th>id</th>\n",
       "      <th>airport</th>\n",
       "      <th>airport_name</th>\n",
       "      <th>city</th>\n",
       "      <th>state</th>\n",
       "    </tr>\n",
       "  </thead>\n",
       "  <tbody>\n",
       "    <tr>\n",
       "      <th>591</th>\n",
       "      <td>1</td>\n",
       "      <td>ABE</td>\n",
       "      <td>Lehigh Valley International</td>\n",
       "      <td>Allentown/Bethlehem/Easton</td>\n",
       "      <td>PA</td>\n",
       "    </tr>\n",
       "    <tr>\n",
       "      <th>736</th>\n",
       "      <td>2</td>\n",
       "      <td>ABI</td>\n",
       "      <td>Abilene Regional</td>\n",
       "      <td>Abilene</td>\n",
       "      <td>TX</td>\n",
       "    </tr>\n",
       "  </tbody>\n",
       "</table>\n",
       "</div>"
      ],
      "text/plain": [
       "     id airport                 airport_name                        city state\n",
       "591   1     ABE  Lehigh Valley International  Allentown/Bethlehem/Easton    PA\n",
       "736   2     ABI             Abilene Regional                     Abilene    TX"
      ]
     },
     "execution_count": 37,
     "metadata": {},
     "output_type": "execute_result"
    }
   ],
   "source": [
    "airport = flights[['airport', 'airport_name', 'city', 'state']].drop_duplicates('airport', keep='first').sort_values('airport')\n",
    "\n",
    "id_ = [i for i in range(1, len(airport)+1)]\n",
    "airport['id'] = id_\n",
    "airport = airport[['id', 'airport', 'airport_name', 'city', 'state']]\n",
    "airport.head(2)"
   ]
  },
  {
   "cell_type": "code",
   "execution_count": 39,
   "id": "8cad6653",
   "metadata": {},
   "outputs": [
    {
     "data": {
      "text/html": [
       "<div>\n",
       "<style scoped>\n",
       "    .dataframe tbody tr th:only-of-type {\n",
       "        vertical-align: middle;\n",
       "    }\n",
       "\n",
       "    .dataframe tbody tr th {\n",
       "        vertical-align: top;\n",
       "    }\n",
       "\n",
       "    .dataframe thead th {\n",
       "        text-align: right;\n",
       "    }\n",
       "</style>\n",
       "<table border=\"1\" class=\"dataframe\">\n",
       "  <thead>\n",
       "    <tr style=\"text-align: right;\">\n",
       "      <th></th>\n",
       "      <th>id</th>\n",
       "      <th>airport</th>\n",
       "      <th>airport_name</th>\n",
       "      <th>city</th>\n",
       "      <th>state</th>\n",
       "    </tr>\n",
       "  </thead>\n",
       "  <tbody>\n",
       "    <tr>\n",
       "      <th>591</th>\n",
       "      <td>1</td>\n",
       "      <td>ABE</td>\n",
       "      <td>Lehigh Valley International</td>\n",
       "      <td>Allentown/Bethlehem/Easton</td>\n",
       "      <td>PA</td>\n",
       "    </tr>\n",
       "    <tr>\n",
       "      <th>736</th>\n",
       "      <td>2</td>\n",
       "      <td>ABI</td>\n",
       "      <td>Abilene Regional</td>\n",
       "      <td>Abilene</td>\n",
       "      <td>TX</td>\n",
       "    </tr>\n",
       "    <tr>\n",
       "      <th>95</th>\n",
       "      <td>3</td>\n",
       "      <td>ABQ</td>\n",
       "      <td>Albuquerque International Sunport</td>\n",
       "      <td>Albuquerque</td>\n",
       "      <td>NM</td>\n",
       "    </tr>\n",
       "  </tbody>\n",
       "</table>\n",
       "</div>"
      ],
      "text/plain": [
       "     id airport                       airport_name  \\\n",
       "591   1     ABE        Lehigh Valley International   \n",
       "736   2     ABI                   Abilene Regional   \n",
       "95    3     ABQ  Albuquerque International Sunport   \n",
       "\n",
       "                           city state  \n",
       "591  Allentown/Bethlehem/Easton    PA  \n",
       "736                     Abilene    TX  \n",
       "95                  Albuquerque    NM  "
      ]
     },
     "execution_count": 39,
     "metadata": {},
     "output_type": "execute_result"
    }
   ],
   "source": [
    "airport.head(3)"
   ]
  },
  {
   "cell_type": "code",
   "execution_count": 40,
   "id": "50b4be92",
   "metadata": {},
   "outputs": [],
   "source": [
    "flights = flights.merge(airport, on=['airport', 'airport_name', 'city', 'state']).drop(['airport', 'airport_name', 'city', 'state'], axis=1)\n",
    "flights = flights.rename(columns={'id': 'airport_id'})"
   ]
  },
  {
   "cell_type": "markdown",
   "id": "53decc8c",
   "metadata": {},
   "source": [
    "arr_flights = Number of Flights\n",
    "arr_del15 = Number of delayed flights (15 min after schedule)\n",
    "arr_diverted = number of diverte lights\n",
    "num_cancelled = number of cancelled flights\n",
    "arr_delay = total delay in minutes\n",
    "carrier_delay = carrier delay in minutes\n",
    "weather_delay = weather delay in minutes\n",
    "nas_delay = national air system delay in minutes\n",
    "security_delay = security delay in minutes\n",
    "late_aircraft_delay = late aircraft delay in minutes\n"
   ]
  },
  {
   "cell_type": "code",
   "execution_count": 41,
   "id": "89e1b090",
   "metadata": {},
   "outputs": [
    {
     "data": {
      "text/html": [
       "<div>\n",
       "<style scoped>\n",
       "    .dataframe tbody tr th:only-of-type {\n",
       "        vertical-align: middle;\n",
       "    }\n",
       "\n",
       "    .dataframe tbody tr th {\n",
       "        vertical-align: top;\n",
       "    }\n",
       "\n",
       "    .dataframe thead th {\n",
       "        text-align: right;\n",
       "    }\n",
       "</style>\n",
       "<table border=\"1\" class=\"dataframe\">\n",
       "  <thead>\n",
       "    <tr style=\"text-align: right;\">\n",
       "      <th></th>\n",
       "      <th>year</th>\n",
       "      <th>month</th>\n",
       "      <th>arr_flights</th>\n",
       "      <th>arr_del15</th>\n",
       "      <th>arr_cancelled</th>\n",
       "      <th>arr_diverted</th>\n",
       "      <th>arr_delay</th>\n",
       "      <th>carrier_delay</th>\n",
       "      <th>weather_delay</th>\n",
       "      <th>nas_delay</th>\n",
       "      <th>security_delay</th>\n",
       "      <th>late_aircraft_delay</th>\n",
       "      <th>carrier_id</th>\n",
       "      <th>id</th>\n",
       "    </tr>\n",
       "  </thead>\n",
       "  <tbody>\n",
       "    <tr>\n",
       "      <th>0</th>\n",
       "      <td>2023</td>\n",
       "      <td>3</td>\n",
       "      <td>89.0</td>\n",
       "      <td>8.0</td>\n",
       "      <td>1.0</td>\n",
       "      <td>1.0</td>\n",
       "      <td>412.0</td>\n",
       "      <td>262.0</td>\n",
       "      <td>38.0</td>\n",
       "      <td>53.0</td>\n",
       "      <td>0.0</td>\n",
       "      <td>59.0</td>\n",
       "      <td>1</td>\n",
       "      <td>5</td>\n",
       "    </tr>\n",
       "    <tr>\n",
       "      <th>1</th>\n",
       "      <td>2023</td>\n",
       "      <td>3</td>\n",
       "      <td>62.0</td>\n",
       "      <td>8.0</td>\n",
       "      <td>0.0</td>\n",
       "      <td>0.0</td>\n",
       "      <td>357.0</td>\n",
       "      <td>188.0</td>\n",
       "      <td>7.0</td>\n",
       "      <td>44.0</td>\n",
       "      <td>0.0</td>\n",
       "      <td>118.0</td>\n",
       "      <td>1</td>\n",
       "      <td>11</td>\n",
       "    </tr>\n",
       "    <tr>\n",
       "      <th>2</th>\n",
       "      <td>2023</td>\n",
       "      <td>3</td>\n",
       "      <td>93.0</td>\n",
       "      <td>12.0</td>\n",
       "      <td>4.0</td>\n",
       "      <td>0.0</td>\n",
       "      <td>752.0</td>\n",
       "      <td>364.0</td>\n",
       "      <td>267.0</td>\n",
       "      <td>0.0</td>\n",
       "      <td>0.0</td>\n",
       "      <td>121.0</td>\n",
       "      <td>12</td>\n",
       "      <td>11</td>\n",
       "    </tr>\n",
       "    <tr>\n",
       "      <th>3</th>\n",
       "      <td>2023</td>\n",
       "      <td>3</td>\n",
       "      <td>11.0</td>\n",
       "      <td>2.0</td>\n",
       "      <td>0.0</td>\n",
       "      <td>0.0</td>\n",
       "      <td>60.0</td>\n",
       "      <td>24.0</td>\n",
       "      <td>0.0</td>\n",
       "      <td>0.0</td>\n",
       "      <td>0.0</td>\n",
       "      <td>36.0</td>\n",
       "      <td>1</td>\n",
       "      <td>12</td>\n",
       "    </tr>\n",
       "    <tr>\n",
       "      <th>4</th>\n",
       "      <td>2023</td>\n",
       "      <td>3</td>\n",
       "      <td>58.0</td>\n",
       "      <td>16.0</td>\n",
       "      <td>0.0</td>\n",
       "      <td>0.0</td>\n",
       "      <td>1016.0</td>\n",
       "      <td>154.0</td>\n",
       "      <td>187.0</td>\n",
       "      <td>42.0</td>\n",
       "      <td>0.0</td>\n",
       "      <td>633.0</td>\n",
       "      <td>9</td>\n",
       "      <td>12</td>\n",
       "    </tr>\n",
       "  </tbody>\n",
       "</table>\n",
       "</div>"
      ],
      "text/plain": [
       "   year  month  arr_flights  arr_del15  arr_cancelled  arr_diverted  \\\n",
       "0  2023      3         89.0        8.0            1.0           1.0   \n",
       "1  2023      3         62.0        8.0            0.0           0.0   \n",
       "2  2023      3         93.0       12.0            4.0           0.0   \n",
       "3  2023      3         11.0        2.0            0.0           0.0   \n",
       "4  2023      3         58.0       16.0            0.0           0.0   \n",
       "\n",
       "   arr_delay  carrier_delay  weather_delay  nas_delay  security_delay  \\\n",
       "0      412.0          262.0           38.0       53.0             0.0   \n",
       "1      357.0          188.0            7.0       44.0             0.0   \n",
       "2      752.0          364.0          267.0        0.0             0.0   \n",
       "3       60.0           24.0            0.0        0.0             0.0   \n",
       "4     1016.0          154.0          187.0       42.0             0.0   \n",
       "\n",
       "   late_aircraft_delay  carrier_id  id  \n",
       "0                 59.0           1   5  \n",
       "1                118.0           1  11  \n",
       "2                121.0          12  11  \n",
       "3                 36.0           1  12  \n",
       "4                633.0           9  12  "
      ]
     },
     "execution_count": 41,
     "metadata": {},
     "output_type": "execute_result"
    }
   ],
   "source": [
    "flights.head(5)"
   ]
  },
  {
   "cell_type": "code",
   "execution_count": 42,
   "id": "800f6c82",
   "metadata": {},
   "outputs": [
    {
     "ename": "KeyError",
     "evalue": "\"['airport_id'] not in index\"",
     "output_type": "error",
     "traceback": [
      "\u001b[1;31m---------------------------------------------------------------------------\u001b[0m",
      "\u001b[1;31mKeyError\u001b[0m                                  Traceback (most recent call last)",
      "Cell \u001b[1;32mIn[42], line 2\u001b[0m\n\u001b[0;32m      1\u001b[0m \u001b[39m# reorder columns\u001b[39;00m\n\u001b[1;32m----> 2\u001b[0m flights \u001b[39m=\u001b[39m flights[[\u001b[39m'\u001b[39;49m\u001b[39myear\u001b[39;49m\u001b[39m'\u001b[39;49m,\u001b[39m'\u001b[39;49m\u001b[39mmonth\u001b[39;49m\u001b[39m'\u001b[39;49m,\u001b[39m'\u001b[39;49m\u001b[39mcarrier_id\u001b[39;49m\u001b[39m'\u001b[39;49m,\u001b[39m'\u001b[39;49m\u001b[39mairport_id\u001b[39;49m\u001b[39m'\u001b[39;49m,\u001b[39m'\u001b[39;49m\u001b[39marr_flights\u001b[39;49m\u001b[39m'\u001b[39;49m,\u001b[39m'\u001b[39;49m\u001b[39marr_del15\u001b[39;49m\u001b[39m'\u001b[39;49m,\u001b[39m'\u001b[39;49m\u001b[39marr_cancelled\u001b[39;49m\u001b[39m'\u001b[39;49m,\u001b[39m'\u001b[39;49m\u001b[39marr_diverted\u001b[39;49m\u001b[39m'\u001b[39;49m,\u001b[39m'\u001b[39;49m\u001b[39marr_delay\u001b[39;49m\u001b[39m'\u001b[39;49m,\u001b[39m'\u001b[39;49m\u001b[39mcarrier_delay\u001b[39;49m\u001b[39m'\u001b[39;49m,\u001b[39m'\u001b[39;49m\u001b[39mweather_delay\u001b[39;49m\u001b[39m'\u001b[39;49m,\u001b[39m'\u001b[39;49m\u001b[39mnas_delay\u001b[39;49m\u001b[39m'\u001b[39;49m,\u001b[39m'\u001b[39;49m\u001b[39msecurity_delay\u001b[39;49m\u001b[39m'\u001b[39;49m,\u001b[39m'\u001b[39;49m\u001b[39mlate_aircraft_delay\u001b[39;49m\u001b[39m'\u001b[39;49m]]\n",
      "File \u001b[1;32mc:\\Users\\aashi\\Desktop\\Personal Projects\\Data Science\\Tracking-U.S.-Flights-With-AWS-and-Power-BI\\venv\\lib\\site-packages\\pandas\\core\\frame.py:3767\u001b[0m, in \u001b[0;36mDataFrame.__getitem__\u001b[1;34m(self, key)\u001b[0m\n\u001b[0;32m   3765\u001b[0m     \u001b[39mif\u001b[39;00m is_iterator(key):\n\u001b[0;32m   3766\u001b[0m         key \u001b[39m=\u001b[39m \u001b[39mlist\u001b[39m(key)\n\u001b[1;32m-> 3767\u001b[0m     indexer \u001b[39m=\u001b[39m \u001b[39mself\u001b[39;49m\u001b[39m.\u001b[39;49mcolumns\u001b[39m.\u001b[39;49m_get_indexer_strict(key, \u001b[39m\"\u001b[39;49m\u001b[39mcolumns\u001b[39;49m\u001b[39m\"\u001b[39;49m)[\u001b[39m1\u001b[39m]\n\u001b[0;32m   3769\u001b[0m \u001b[39m# take() does not accept boolean indexers\u001b[39;00m\n\u001b[0;32m   3770\u001b[0m \u001b[39mif\u001b[39;00m \u001b[39mgetattr\u001b[39m(indexer, \u001b[39m\"\u001b[39m\u001b[39mdtype\u001b[39m\u001b[39m\"\u001b[39m, \u001b[39mNone\u001b[39;00m) \u001b[39m==\u001b[39m \u001b[39mbool\u001b[39m:\n",
      "File \u001b[1;32mc:\\Users\\aashi\\Desktop\\Personal Projects\\Data Science\\Tracking-U.S.-Flights-With-AWS-and-Power-BI\\venv\\lib\\site-packages\\pandas\\core\\indexes\\base.py:5876\u001b[0m, in \u001b[0;36mIndex._get_indexer_strict\u001b[1;34m(self, key, axis_name)\u001b[0m\n\u001b[0;32m   5873\u001b[0m \u001b[39melse\u001b[39;00m:\n\u001b[0;32m   5874\u001b[0m     keyarr, indexer, new_indexer \u001b[39m=\u001b[39m \u001b[39mself\u001b[39m\u001b[39m.\u001b[39m_reindex_non_unique(keyarr)\n\u001b[1;32m-> 5876\u001b[0m \u001b[39mself\u001b[39;49m\u001b[39m.\u001b[39;49m_raise_if_missing(keyarr, indexer, axis_name)\n\u001b[0;32m   5878\u001b[0m keyarr \u001b[39m=\u001b[39m \u001b[39mself\u001b[39m\u001b[39m.\u001b[39mtake(indexer)\n\u001b[0;32m   5879\u001b[0m \u001b[39mif\u001b[39;00m \u001b[39misinstance\u001b[39m(key, Index):\n\u001b[0;32m   5880\u001b[0m     \u001b[39m# GH 42790 - Preserve name from an Index\u001b[39;00m\n",
      "File \u001b[1;32mc:\\Users\\aashi\\Desktop\\Personal Projects\\Data Science\\Tracking-U.S.-Flights-With-AWS-and-Power-BI\\venv\\lib\\site-packages\\pandas\\core\\indexes\\base.py:5938\u001b[0m, in \u001b[0;36mIndex._raise_if_missing\u001b[1;34m(self, key, indexer, axis_name)\u001b[0m\n\u001b[0;32m   5935\u001b[0m     \u001b[39mraise\u001b[39;00m \u001b[39mKeyError\u001b[39;00m(\u001b[39mf\u001b[39m\u001b[39m\"\u001b[39m\u001b[39mNone of [\u001b[39m\u001b[39m{\u001b[39;00mkey\u001b[39m}\u001b[39;00m\u001b[39m] are in the [\u001b[39m\u001b[39m{\u001b[39;00maxis_name\u001b[39m}\u001b[39;00m\u001b[39m]\u001b[39m\u001b[39m\"\u001b[39m)\n\u001b[0;32m   5937\u001b[0m not_found \u001b[39m=\u001b[39m \u001b[39mlist\u001b[39m(ensure_index(key)[missing_mask\u001b[39m.\u001b[39mnonzero()[\u001b[39m0\u001b[39m]]\u001b[39m.\u001b[39munique())\n\u001b[1;32m-> 5938\u001b[0m \u001b[39mraise\u001b[39;00m \u001b[39mKeyError\u001b[39;00m(\u001b[39mf\u001b[39m\u001b[39m\"\u001b[39m\u001b[39m{\u001b[39;00mnot_found\u001b[39m}\u001b[39;00m\u001b[39m not in index\u001b[39m\u001b[39m\"\u001b[39m)\n",
      "\u001b[1;31mKeyError\u001b[0m: \"['airport_id'] not in index\""
     ]
    }
   ],
   "source": [
    "# reorder columns\n",
    "flights = flights[['year','month','carrier_id','airport_id','arr_flights','arr_del15','arr_cancelled','arr_diverted','arr_delay','carrier_delay','weather_delay','nas_delay','security_delay','late_aircraft_delay']]"
   ]
  },
  {
   "cell_type": "code",
   "execution_count": 307,
   "id": "b5c073e5",
   "metadata": {},
   "outputs": [
    {
     "data": {
      "text/html": [
       "<div><style>\n",
       ".dataframe > thead > tr > th,\n",
       ".dataframe > tbody > tr > td {\n",
       "  text-align: right;\n",
       "}\n",
       "</style>\n",
       "<small>shape: (5, 14)</small><table border=\"1\" class=\"dataframe\"><thead><tr><th>year</th><th>month</th><th>carrier_id</th><th>airport_id</th><th>arr_flights</th><th>arr_del15</th><th>arr_cancelled</th><th>arr_diverted</th><th>arr_delay</th><th>carrier_delay</th><th>weather_delay</th><th>nas_delay</th><th>security_delay</th><th>late_aircraft_delay</th></tr><tr><td>i64</td><td>i64</td><td>i64</td><td>i64</td><td>f64</td><td>f64</td><td>f64</td><td>f64</td><td>f64</td><td>f64</td><td>f64</td><td>f64</td><td>f64</td><td>f64</td></tr></thead><tbody><tr><td>2023</td><td>3</td><td>1</td><td>5</td><td>89.0</td><td>8.0</td><td>1.0</td><td>1.0</td><td>412.0</td><td>262.0</td><td>38.0</td><td>53.0</td><td>0.0</td><td>59.0</td></tr><tr><td>2023</td><td>3</td><td>1</td><td>11</td><td>62.0</td><td>8.0</td><td>0.0</td><td>0.0</td><td>357.0</td><td>188.0</td><td>7.0</td><td>44.0</td><td>0.0</td><td>118.0</td></tr><tr><td>2023</td><td>3</td><td>1</td><td>12</td><td>11.0</td><td>2.0</td><td>0.0</td><td>0.0</td><td>60.0</td><td>24.0</td><td>0.0</td><td>0.0</td><td>0.0</td><td>36.0</td></tr><tr><td>2023</td><td>3</td><td>1</td><td>13</td><td>201.0</td><td>27.0</td><td>7.0</td><td>1.0</td><td>1336.0</td><td>742.0</td><td>13.0</td><td>220.0</td><td>0.0</td><td>361.0</td></tr><tr><td>2023</td><td>3</td><td>1</td><td>18</td><td>1598.0</td><td>222.0</td><td>8.0</td><td>6.0</td><td>18248.0</td><td>7265.0</td><td>774.0</td><td>3458.0</td><td>0.0</td><td>6751.0</td></tr></tbody></table></div>"
      ],
      "text/plain": [
       "shape: (5, 14)\n",
       "┌──────┬───────┬────────────┬────────────┬───┬────────────┬───────────┬────────────┬───────────────┐\n",
       "│ year ┆ month ┆ carrier_id ┆ airport_id ┆ … ┆ weather_de ┆ nas_delay ┆ security_d ┆ late_aircraft │\n",
       "│ ---  ┆ ---   ┆ ---        ┆ ---        ┆   ┆ lay        ┆ ---       ┆ elay       ┆ _delay        │\n",
       "│ i64  ┆ i64   ┆ i64        ┆ i64        ┆   ┆ ---        ┆ f64       ┆ ---        ┆ ---           │\n",
       "│      ┆       ┆            ┆            ┆   ┆ f64        ┆           ┆ f64        ┆ f64           │\n",
       "╞══════╪═══════╪════════════╪════════════╪═══╪════════════╪═══════════╪════════════╪═══════════════╡\n",
       "│ 2023 ┆ 3     ┆ 1          ┆ 5          ┆ … ┆ 38.0       ┆ 53.0      ┆ 0.0        ┆ 59.0          │\n",
       "│ 2023 ┆ 3     ┆ 1          ┆ 11         ┆ … ┆ 7.0        ┆ 44.0      ┆ 0.0        ┆ 118.0         │\n",
       "│ 2023 ┆ 3     ┆ 1          ┆ 12         ┆ … ┆ 0.0        ┆ 0.0       ┆ 0.0        ┆ 36.0          │\n",
       "│ 2023 ┆ 3     ┆ 1          ┆ 13         ┆ … ┆ 13.0       ┆ 220.0     ┆ 0.0        ┆ 361.0         │\n",
       "│ 2023 ┆ 3     ┆ 1          ┆ 18         ┆ … ┆ 774.0      ┆ 3458.0    ┆ 0.0        ┆ 6751.0        │\n",
       "└──────┴───────┴────────────┴────────────┴───┴────────────┴───────────┴────────────┴───────────────┘"
      ]
     },
     "execution_count": 307,
     "metadata": {},
     "output_type": "execute_result"
    }
   ],
   "source": [
    "flights.head()"
   ]
  },
  {
   "cell_type": "code",
   "execution_count": 308,
   "id": "232a6ade",
   "metadata": {},
   "outputs": [
    {
     "data": {
      "text/html": [
       "<div><style>\n",
       ".dataframe > thead > tr > th,\n",
       ".dataframe > tbody > tr > td {\n",
       "  text-align: right;\n",
       "}\n",
       "</style>\n",
       "<small>shape: (5, 3)</small><table border=\"1\" class=\"dataframe\"><thead><tr><th>id</th><th>carrier</th><th>carrier_name</th></tr><tr><td>i64</td><td>str</td><td>str</td></tr></thead><tbody><tr><td>1</td><td>&quot;9E&quot;</td><td>&quot;Endeavor Air I…</td></tr><tr><td>2</td><td>&quot;AA&quot;</td><td>&quot;American Airli…</td></tr><tr><td>3</td><td>&quot;AS&quot;</td><td>&quot;Alaska Airline…</td></tr><tr><td>4</td><td>&quot;B6&quot;</td><td>&quot;JetBlue Airway…</td></tr><tr><td>5</td><td>&quot;DL&quot;</td><td>&quot;Delta Air Line…</td></tr></tbody></table></div>"
      ],
      "text/plain": [
       "shape: (5, 3)\n",
       "┌─────┬─────────┬────────────────────────┐\n",
       "│ id  ┆ carrier ┆ carrier_name           │\n",
       "│ --- ┆ ---     ┆ ---                    │\n",
       "│ i64 ┆ str     ┆ str                    │\n",
       "╞═════╪═════════╪════════════════════════╡\n",
       "│ 1   ┆ 9E      ┆ Endeavor Air Inc.      │\n",
       "│ 2   ┆ AA      ┆ American Airlines Inc. │\n",
       "│ 3   ┆ AS      ┆ Alaska Airlines Inc.   │\n",
       "│ 4   ┆ B6      ┆ JetBlue Airways        │\n",
       "│ 5   ┆ DL      ┆ Delta Air Lines Inc.   │\n",
       "└─────┴─────────┴────────────────────────┘"
      ]
     },
     "execution_count": 308,
     "metadata": {},
     "output_type": "execute_result"
    }
   ],
   "source": [
    "carrier.head()"
   ]
  },
  {
   "cell_type": "code",
   "execution_count": 309,
   "id": "37f785dd",
   "metadata": {},
   "outputs": [
    {
     "data": {
      "text/html": [
       "<div><style>\n",
       ".dataframe > thead > tr > th,\n",
       ".dataframe > tbody > tr > td {\n",
       "  text-align: right;\n",
       "}\n",
       "</style>\n",
       "<small>shape: (5, 5)</small><table border=\"1\" class=\"dataframe\"><thead><tr><th>id</th><th>airport</th><th>airport_name</th><th>city</th><th>state</th></tr><tr><td>i64</td><td>str</td><td>str</td><td>str</td><td>str</td></tr></thead><tbody><tr><td>1</td><td>&quot;ABE&quot;</td><td>&quot;Lehigh Valley …</td><td>&quot;Allentown/Beth…</td><td>&quot;PA&quot;</td></tr><tr><td>2</td><td>&quot;ABI&quot;</td><td>&quot;Abilene Region…</td><td>&quot;Abilene&quot;</td><td>&quot;TX&quot;</td></tr><tr><td>3</td><td>&quot;ABQ&quot;</td><td>&quot;Albuquerque In…</td><td>&quot;Albuquerque&quot;</td><td>&quot;NM&quot;</td></tr><tr><td>4</td><td>&quot;ABR&quot;</td><td>&quot;Aberdeen Regio…</td><td>&quot;Aberdeen&quot;</td><td>&quot;SD&quot;</td></tr><tr><td>5</td><td>&quot;ABY&quot;</td><td>&quot;Southwest Geor…</td><td>&quot;Albany&quot;</td><td>&quot;GA&quot;</td></tr></tbody></table></div>"
      ],
      "text/plain": [
       "shape: (5, 5)\n",
       "┌─────┬─────────┬───────────────────────────────────┬────────────────────────────┬───────┐\n",
       "│ id  ┆ airport ┆ airport_name                      ┆ city                       ┆ state │\n",
       "│ --- ┆ ---     ┆ ---                               ┆ ---                        ┆ ---   │\n",
       "│ i64 ┆ str     ┆ str                               ┆ str                        ┆ str   │\n",
       "╞═════╪═════════╪═══════════════════════════════════╪════════════════════════════╪═══════╡\n",
       "│ 1   ┆ ABE     ┆ Lehigh Valley International       ┆ Allentown/Bethlehem/Easton ┆ PA    │\n",
       "│ 2   ┆ ABI     ┆ Abilene Regional                  ┆ Abilene                    ┆ TX    │\n",
       "│ 3   ┆ ABQ     ┆ Albuquerque International Sunpor… ┆ Albuquerque                ┆ NM    │\n",
       "│ 4   ┆ ABR     ┆ Aberdeen Regional                 ┆ Aberdeen                   ┆ SD    │\n",
       "│ 5   ┆ ABY     ┆ Southwest Georgia Regional        ┆ Albany                     ┆ GA    │\n",
       "└─────┴─────────┴───────────────────────────────────┴────────────────────────────┴───────┘"
      ]
     },
     "execution_count": 309,
     "metadata": {},
     "output_type": "execute_result"
    }
   ],
   "source": [
    "airport.head()"
   ]
  },
  {
   "cell_type": "markdown",
   "id": "b40309cd",
   "metadata": {},
   "source": [
    "### Export Tables to S3"
   ]
  },
  {
   "cell_type": "code",
   "execution_count": 310,
   "id": "2399e6ce",
   "metadata": {},
   "outputs": [
    {
     "data": {
      "text/plain": [
       "{'ResponseMetadata': {'RequestId': '31PBPH8QKGJ5AME0',\n",
       "  'HostId': 'LN63Ze9oIKICrCOEv3IhuGZC5zHnAK1Au428HsCxMMkg8yoSLuoKYUZK+Kf5Lgu5cUWrk6x3A3A=',\n",
       "  'HTTPStatusCode': 200,\n",
       "  'HTTPHeaders': {'x-amz-id-2': 'LN63Ze9oIKICrCOEv3IhuGZC5zHnAK1Au428HsCxMMkg8yoSLuoKYUZK+Kf5Lgu5cUWrk6x3A3A=',\n",
       "   'x-amz-request-id': '31PBPH8QKGJ5AME0',\n",
       "   'date': 'Sun, 11 Jun 2023 02:30:43 GMT',\n",
       "   'x-amz-server-side-encryption': 'AES256',\n",
       "   'etag': '\"2d155295dda89966c4ec3c1b7660ab42\"',\n",
       "   'server': 'AmazonS3',\n",
       "   'content-length': '0'},\n",
       "  'RetryAttempts': 0},\n",
       " 'ETag': '\"2d155295dda89966c4ec3c1b7660ab42\"',\n",
       " 'ServerSideEncryption': 'AES256'}"
      ]
     },
     "execution_count": 310,
     "metadata": {},
     "output_type": "execute_result"
    }
   ],
   "source": [
    "# uploade files to bucket\n",
    "csv_buffer = io.StringIO()\n",
    "flights_pd = pd.DataFrame(flights.to_numpy(), columns=flights.columns)\n",
    "flights_pd.to_csv(csv_buffer, index=False)\n",
    "s3.put_object(Bucket='flights-data-processed', \n",
    "              Body=csv_buffer.getvalue(), \n",
    "              Key='flights.csv')\n",
    "\n",
    "\n",
    "# uploade files to bucket\n",
    "csv_buffer = io.StringIO()\n",
    "carrier_pd = pd.DataFrame(carrier.to_numpy(), columns=carrier.columns)\n",
    "carrier_pd.to_csv(csv_buffer, index=False)\n",
    "s3.put_object(Bucket='flights-data-processed', \n",
    "              Body=csv_buffer.getvalue(), \n",
    "              Key='carriers.csv')\n",
    "\n",
    "\n",
    "# uploade files to bucket\n",
    "csv_buffer = io.StringIO()\n",
    "airport_pd = pd.DataFrame(airport.to_numpy(), columns=airport.columns)\n",
    "airport_pd.to_csv(csv_buffer, index=False)\n",
    "s3.put_object(Bucket='flights-data-processed', \n",
    "              Body=csv_buffer.getvalue(), \n",
    "              Key='airports.csv')"
   ]
  },
  {
   "cell_type": "code",
   "execution_count": null,
   "id": "ac56dbec",
   "metadata": {},
   "outputs": [],
   "source": []
  }
 ],
 "metadata": {
  "kernelspec": {
   "display_name": "Python 3 (ipykernel)",
   "language": "python",
   "name": "python3"
  },
  "language_info": {
   "codemirror_mode": {
    "name": "ipython",
    "version": 3
   },
   "file_extension": ".py",
   "mimetype": "text/x-python",
   "name": "python",
   "nbconvert_exporter": "python",
   "pygments_lexer": "ipython3",
   "version": "3.8.12"
  },
  "toc": {
   "base_numbering": 1,
   "nav_menu": {},
   "number_sections": true,
   "sideBar": true,
   "skip_h1_title": false,
   "title_cell": "Table of Contents",
   "title_sidebar": "Contents",
   "toc_cell": false,
   "toc_position": {},
   "toc_section_display": true,
   "toc_window_display": false
  }
 },
 "nbformat": 4,
 "nbformat_minor": 5
}
